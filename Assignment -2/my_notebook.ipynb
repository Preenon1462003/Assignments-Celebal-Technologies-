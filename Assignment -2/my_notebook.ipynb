{
 "cells": [
  {
   "cell_type": "code",
   "execution_count": 1,
   "id": "8c08c6b4",
   "metadata": {},
   "outputs": [
    {
     "data": {
      "text/plain": [
       "15"
      ]
     },
     "execution_count": 1,
     "metadata": {},
     "output_type": "execute_result"
    }
   ],
   "source": [
    "# my_notebook.ipynb\n",
    "\n",
    "# Imports\n",
    "def add(num1, num2):\n",
    "    return num1 + num2\n",
    "\n",
    "def subtract(num1, num2):\n",
    "    return num1 - num2\n",
    "\n",
    "def multiply(num1, num2):\n",
    "    return num1 * num2\n",
    "\n",
    "def divide(num1, num2):\n",
    "    if num2 == 0:\n",
    "        return \"Error! Division by zero.\"\n",
    "    return num1 / num2\n",
    "\n",
    "# Example values (these will be dynamically set by Flask)\n",
    "num1 = 10\n",
    "num2 = 5\n",
    "operation = 'add'\n",
    "\n",
    "# Perform the operation\n",
    "if operation == 'add':\n",
    "    result = add(num1, num2)\n",
    "elif operation == 'subtract':\n",
    "    result = subtract(num1, num2)\n",
    "elif operation == 'multiply':\n",
    "    result = multiply(num1, num2)\n",
    "elif operation == 'divide':\n",
    "    result = divide(num1, num2)\n",
    "else:\n",
    "    result = 'Invalid operation'\n",
    "\n",
    "result\n"
   ]
  },
  {
   "cell_type": "code",
   "execution_count": null,
   "id": "9cb16fc6",
   "metadata": {},
   "outputs": [],
   "source": []
  }
 ],
 "metadata": {
  "kernelspec": {
   "display_name": "Python 3 (ipykernel)",
   "language": "python",
   "name": "python3"
  },
  "language_info": {
   "codemirror_mode": {
    "name": "ipython",
    "version": 3
   },
   "file_extension": ".py",
   "mimetype": "text/x-python",
   "name": "python",
   "nbconvert_exporter": "python",
   "pygments_lexer": "ipython3",
   "version": "3.10.9"
  }
 },
 "nbformat": 4,
 "nbformat_minor": 5
}
