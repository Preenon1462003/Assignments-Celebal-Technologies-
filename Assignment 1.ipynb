{
 "cells": [
  {
   "cell_type": "markdown",
   "id": "c6b85d35",
   "metadata": {},
   "source": [
    "### Lower Triangular Pattern"
   ]
  },
  {
   "cell_type": "code",
   "execution_count": 2,
   "id": "cf22240f",
   "metadata": {},
   "outputs": [
    {
     "name": "stdout",
     "output_type": "stream",
     "text": [
      "*\n",
      "**\n",
      "***\n",
      "****\n",
      "*****\n"
     ]
    }
   ],
   "source": [
    "def lower(num):\n",
    "    for i in range(1,num+1):\n",
    "        print('*' * i)\n",
    "        \n",
    "lower(5)"
   ]
  },
  {
   "cell_type": "markdown",
   "id": "840d0012",
   "metadata": {},
   "source": [
    "### Upper Triangular Pattern"
   ]
  },
  {
   "cell_type": "code",
   "execution_count": 3,
   "id": "c8de84da",
   "metadata": {},
   "outputs": [
    {
     "name": "stdout",
     "output_type": "stream",
     "text": [
      "*****\n",
      "****\n",
      "***\n",
      "**\n",
      "*\n"
     ]
    }
   ],
   "source": [
    "def upper(num):\n",
    "    for i in range(num,0,-1):\n",
    "        print('*' * i)\n",
    "\n",
    "upper(5)"
   ]
  },
  {
   "cell_type": "markdown",
   "id": "97a30008",
   "metadata": {},
   "source": [
    "### Pyramid Pattern"
   ]
  },
  {
   "cell_type": "code",
   "execution_count": 7,
   "id": "0c488b58",
   "metadata": {},
   "outputs": [
    {
     "name": "stdout",
     "output_type": "stream",
     "text": [
      "    * \n",
      "   * * \n",
      "  * * * \n",
      " * * * * \n",
      "* * * * * \n"
     ]
    }
   ],
   "source": [
    "def pyr(num):\n",
    "    for i in range (num):\n",
    "        print(' '*(num-i-1)+ '* '*(i+1))\n",
    "        \n",
    "pyr(5)"
   ]
  }
 ],
 "metadata": {
  "kernelspec": {
   "display_name": "Python 3 (ipykernel)",
   "language": "python",
   "name": "python3"
  },
  "language_info": {
   "codemirror_mode": {
    "name": "ipython",
    "version": 3
   },
   "file_extension": ".py",
   "mimetype": "text/x-python",
   "name": "python",
   "nbconvert_exporter": "python",
   "pygments_lexer": "ipython3",
   "version": "3.10.9"
  }
 },
 "nbformat": 4,
 "nbformat_minor": 5
}
